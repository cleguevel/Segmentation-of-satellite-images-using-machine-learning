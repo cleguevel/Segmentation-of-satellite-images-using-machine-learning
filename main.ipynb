{
 "cells": [
  {
   "cell_type": "code",
   "execution_count": 70,
   "metadata": {},
   "outputs": [],
   "source": [
    "import numpy\n",
    "from PIL import Image\n",
    "from os import listdir\n",
    "def imagesList (folder):\n",
    "    images=[]\n",
    "    for filename in listdir(folder):\n",
    "        img= Image.open(folder+filename).convert('RGB')\n",
    "        img=numpy.array(img)               #\n",
    "        images.append(img)               # Appending all images in 'images' list \n",
    "    return(images)\n",
    "\n",
    "maps = imagesList(\"Map/\")   \n",
    "masks = imagesList(\"Masks/\")"
   ]
  },
  {
   "cell_type": "code",
   "execution_count": 71,
   "metadata": {},
   "outputs": [
    {
     "name": "stdout",
     "output_type": "stream",
     "text": [
      "DATABASE Progression :  5.0 %\n",
      "DATABASE Progression :  10.0 %\n",
      "DATABASE Progression :  15.0 %\n",
      "DATABASE Progression :  20.0 %\n",
      "DATABASE Progression :  25.0 %\n",
      "DATABASE Progression :  30.0 %\n",
      "DATABASE Progression :  35.0 %\n",
      "DATABASE Progression :  40.0 %\n",
      "DATABASE Progression :  45.0 %\n",
      "DATABASE Progression :  50.0 %\n",
      "DATABASE Progression :  55.00000000000001 %\n",
      "DATABASE Progression :  60.0 %\n",
      "DATABASE Progression :  65.0 %\n",
      "DATABASE Progression :  70.0 %\n",
      "DATABASE Progression :  75.0 %\n",
      "DATABASE Progression :  80.0 %\n",
      "DATABASE Progression :  85.0 %\n",
      "DATABASE Progression :  90.0 %\n",
      "DATABASE Progression :  95.0 %\n",
      "DATABASE Progression :  100.0 %\n",
      "(6460, 256, 256)\n",
      "(6460, 256, 256, 3)\n"
     ]
    }
   ],
   "source": [
    "from skimage import exposure\n",
    "import time\n",
    "import matplotlib.pyplot as plt\n",
    "def resizeImg (img):\n",
    "    images_box=[]\n",
    "    width, height, dim = img.shape\n",
    "    chopsize = 256\n",
    "    i=0\n",
    "    for x0 in range(0, width-chopsize, chopsize):\n",
    "        for y0 in range(0, height-chopsize, chopsize):\n",
    "            img_crop = img[x0:(x0+chopsize),y0:(y0+chopsize),:]\n",
    "            images_box.append(img_crop)\n",
    "    return images_box\n",
    "\n",
    "def equalizeHist(img):\n",
    "    colors = (\"g\")\n",
    "    channel_ids = (1)\n",
    "    myCropImgMasks = numpy.asarray(exposure.equalize_hist(img[:, :, channel_ids]) * 255, dtype='uint8')\n",
    "    return myCropImgMasks\n",
    "\n",
    "def imgLabelize(img2,ind):\n",
    "    width, height= img2.shape\n",
    "    img = [[0 for i in range(width)] for j in range(height)] \n",
    "    for x0 in range(0, width):\n",
    "        for y0 in range(0, height):  \n",
    "            if img2[x0][y0] > ind:\n",
    "                img[x0][y0] = 1\n",
    "            else :\n",
    "                img[x0][y0] = 0\n",
    "    return img\n",
    "\n",
    "\n",
    "myMasks = []\n",
    "myInputMaps = []\n",
    "for i in range (len(maps)):\n",
    "    cropMasks = resizeImg(masks[i])\n",
    "    cropMaps = resizeImg(maps[i])\n",
    "    masksConstructor = []\n",
    "    for j in range (len(cropMasks)):\n",
    "        equalHistMasks = equalizeHist(cropMasks[j])\n",
    "        labelizeMasks = imgLabelize(equalHistMasks,120)\n",
    "        masksConstructor.append(labelizeMasks)\n",
    "    print(\"DATABASE Progression : \", (i+1) / len(maps) * 100,\"%\")\n",
    "    if(i == 0):\n",
    "        myMasks = masksConstructor\n",
    "        myInputMaps = cropMaps\n",
    "        \n",
    "    else :\n",
    "        myMasks = numpy.vstack((myMasks, masksConstructor))\n",
    "        myInputMaps = numpy.vstack((myInputMaps, cropMaps))\n",
    "    \n",
    "print(numpy.array(myMasks).shape)\n",
    "print(numpy.array(myInputMaps).shape)\n",
    "numpy.save('myMasks', numpy.array(myMasks))\n",
    "numpy.save('myInputMaps', numpy.array(myInputMaps))"
   ]
  },
  {
   "cell_type": "code",
   "execution_count": null,
   "metadata": {},
   "outputs": [
    {
     "name": "stdout",
     "output_type": "stream",
     "text": [
      "(6460, 256, 256)\n",
      "(6460, 256, 256, 3)\n",
      "(500, 256, 256)\n",
      "(500, 256, 256, 3)\n",
      "(300, 256, 256, 3)\n",
      "(200, 256, 256, 3)\n",
      "(300, 256, 256)\n",
      "(200, 256, 256)\n",
      "Epoch 1/10\n"
     ]
    }
   ],
   "source": [
    "myMasks = numpy.load('myMasks.npy')\n",
    "myInputMaps = numpy.load('myInputMaps.npy')\n",
    "print(numpy.array(myMasks).shape)\n",
    "print(numpy.array(myInputMaps).shape)\n",
    "myMasks = myMasks[:500,:,:]\n",
    "myInputMaps = myInputMaps[:500,:,:,:]\n",
    "print(numpy.array(myMasks).shape)\n",
    "print(numpy.array(myInputMaps).shape)\n",
    "\n",
    "import tensorflow as tf\n",
    "from sklearn.model_selection import train_test_split\n",
    "from keras.models import *\n",
    "from keras.layers import *\n",
    "\n",
    "def UNet(pretrained_weights = None,input_size = (256,256,3),num_classes=2):\n",
    "    inputs = Input(input_size)\n",
    "    conv1 = Conv2D(64, 3, activation = 'relu', padding = 'same', kernel_initializer = 'he_normal')(inputs)\n",
    "    conv1 = Conv2D(64, 3, activation = 'relu', padding = 'same', kernel_initializer = 'he_normal')(conv1)\n",
    "    pool1 = MaxPooling2D(pool_size=(2, 2))(conv1)\n",
    "    conv2 = Conv2D(128, 3, activation = 'relu', padding = 'same', kernel_initializer = 'he_normal')(pool1)\n",
    "    conv2 = Conv2D(128, 3, activation = 'relu', padding = 'same', kernel_initializer = 'he_normal')(conv2)\n",
    "    pool2 = MaxPooling2D(pool_size=(2, 2))(conv2)\n",
    "    conv3 = Conv2D(256, 3, activation = 'relu', padding = 'same', kernel_initializer = 'he_normal')(pool2)\n",
    "    conv3 = Conv2D(256, 3, activation = 'relu', padding = 'same', kernel_initializer = 'he_normal')(conv3)\n",
    "    pool3 = MaxPooling2D(pool_size=(2, 2))(conv3)\n",
    "    conv4 = Conv2D(512, 3, activation = 'relu', padding = 'same', kernel_initializer = 'he_normal')(pool3)\n",
    "    conv4 = Conv2D(512, 3, activation = 'relu', padding = 'same', kernel_initializer = 'he_normal')(conv4)\n",
    "    drop4 = Dropout(0.5)(conv4)\n",
    "    pool4 = MaxPooling2D(pool_size=(2, 2))(drop4)\n",
    "\n",
    "    conv5 = Conv2D(1024, 3, activation = 'relu', padding = 'same', kernel_initializer = 'he_normal')(pool4)\n",
    "    conv5 = Conv2D(1024, 3, activation = 'relu', padding = 'same', kernel_initializer = 'he_normal')(conv5)\n",
    "    drop5 = Dropout(0.5)(conv5)\n",
    "\n",
    "    up6 = Conv2D(512, 2, activation = 'relu', padding = 'same', kernel_initializer = 'he_normal')(UpSampling2D(size = (2,2))(drop5))\n",
    "    merge6 = concatenate([drop4,up6], axis = 3)\n",
    "    conv6 = Conv2D(512, 3, activation = 'relu', padding = 'same', kernel_initializer = 'he_normal')(merge6)\n",
    "    conv6 = Conv2D(512, 3, activation = 'relu', padding = 'same', kernel_initializer = 'he_normal')(conv6)\n",
    "\n",
    "    up7 = Conv2D(256, 2, activation = 'relu', padding = 'same', kernel_initializer = 'he_normal')(UpSampling2D(size = (2,2))(conv6))\n",
    "    merge7 = concatenate([conv3,up7], axis = 3)\n",
    "    conv7 = Conv2D(256, 3, activation = 'relu', padding = 'same', kernel_initializer = 'he_normal')(merge7)\n",
    "    conv7 = Conv2D(256, 3, activation = 'relu', padding = 'same', kernel_initializer = 'he_normal')(conv7)\n",
    "\n",
    "    up8 = Conv2D(128, 2, activation = 'relu', padding = 'same', kernel_initializer = 'he_normal')(UpSampling2D(size = (2,2))(conv7))\n",
    "    merge8 = concatenate([conv2,up8], axis = 3)\n",
    "    conv8 = Conv2D(128, 3, activation = 'relu', padding = 'same', kernel_initializer = 'he_normal')(merge8)\n",
    "    conv8 = Conv2D(128, 3, activation = 'relu', padding = 'same', kernel_initializer = 'he_normal')(conv8)\n",
    "\n",
    "    up9 = Conv2D(64, 2, activation = 'relu', padding = 'same', kernel_initializer = 'he_normal')(UpSampling2D(size = (2,2))(conv8))\n",
    "    merge9 = concatenate([conv1,up9], axis = 3)\n",
    "    conv9 = Conv2D(64, 3, activation = 'relu', padding = 'same', kernel_initializer = 'he_normal')(merge9)\n",
    "    conv9 = Conv2D(64, 3, activation = 'relu', padding = 'same', kernel_initializer = 'he_normal')(conv9)\n",
    "    conv9 = Conv2D(3, 3, activation = 'relu', padding = 'same', kernel_initializer = 'he_normal')(conv9)\n",
    "    conv10 = Conv2D(num_classes, 1, activation = 'softmax',padding='same')(conv9)\n",
    "\n",
    "    model = Model(inputs, conv10)\n",
    "\n",
    "    return model\n",
    "\n",
    "\n",
    "X_train, X_test, y_train, y_test = train_test_split(myInputMaps, myMasks, \n",
    "                                                    train_size=0.6, \n",
    "                                              random_state=42)\n",
    "print(numpy.array(X_train).shape)\n",
    "print(numpy.array(X_test).shape)\n",
    "print(numpy.array(y_train).shape)\n",
    "print(numpy.array(y_test).shape)\n",
    "model = UNet()\n",
    "\n",
    "model.compile(optimizer='adam',\n",
    "              loss=tf.keras.losses.SparseCategoricalCrossentropy(from_logits=True),\n",
    "              metrics=['accuracy'])\n",
    "\n",
    "history = model.fit(X_train, y_train, epochs=10, \n",
    "                    validation_data=(X_test, y_test))"
   ]
  },
  {
   "cell_type": "code",
   "execution_count": 80,
   "metadata": {},
   "outputs": [
    {
     "ename": "NameError",
     "evalue": "name 'myCropImgMaps' is not defined",
     "output_type": "error",
     "traceback": [
      "\u001b[1;31m---------------------------------------------------------------------------\u001b[0m",
      "\u001b[1;31mNameError\u001b[0m                                 Traceback (most recent call last)",
      "\u001b[1;32m<ipython-input-80-cb1e3f89dd62>\u001b[0m in \u001b[0;36m<module>\u001b[1;34m\u001b[0m\n\u001b[1;32m----> 1\u001b[1;33m \u001b[0mplt\u001b[0m\u001b[1;33m.\u001b[0m\u001b[0mimshow\u001b[0m\u001b[1;33m(\u001b[0m\u001b[0mmyCropImgMaps\u001b[0m\u001b[1;33m[\u001b[0m\u001b[1;36m10\u001b[0m\u001b[1;33m]\u001b[0m\u001b[1;33m)\u001b[0m\u001b[1;33m\u001b[0m\u001b[1;33m\u001b[0m\u001b[0m\n\u001b[0m",
      "\u001b[1;31mNameError\u001b[0m: name 'myCropImgMaps' is not defined"
     ]
    }
   ],
   "source": [
    "plt.imshow(myCropImgMaps[10])"
   ]
  },
  {
   "cell_type": "code",
   "execution_count": 431,
   "metadata": {},
   "outputs": [
    {
     "data": {
      "text/plain": [
       "<matplotlib.image.AxesImage at 0x140a4cf08b0>"
      ]
     },
     "execution_count": 431,
     "metadata": {},
     "output_type": "execute_result"
    },
    {
     "data": {
      "image/png": "[encoded data removed]",
      "text/plain": [
       "<Figure size 432x288 with 1 Axes>"
      ]
     },
     "metadata": {
      "needs_background": "light"
     },
     "output_type": "display_data"
    }
   ],
   "source": [
    "\n",
    "imgReturn = imgLabelize(myCropImgMasks,120)\n",
    "plt.imshow(imgReturn)\n"
   ]
  }
 ],
 "metadata": {
  "kernelspec": {
   "display_name": "Python 3",
   "language": "python",
   "name": "python3"
  },
  "language_info": {
   "codemirror_mode": {
    "name": "ipython",
    "version": 3
   },
   "file_extension": ".py",
   "mimetype": "text/x-python",
   "name": "python",
   "nbconvert_exporter": "python",
   "pygments_lexer": "ipython3",
   "version": "3.8.3"
  }
 },
 "nbformat": 4,
 "nbformat_minor": 4
}
